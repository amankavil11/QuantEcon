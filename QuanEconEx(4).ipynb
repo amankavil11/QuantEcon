{
 "cells": [
  {
   "cell_type": "code",
   "execution_count": 10,
   "metadata": {},
   "outputs": [
    {
     "name": "stdout",
     "output_type": "stream",
     "text": [
      "120\n"
     ]
    }
   ],
   "source": [
    "#Exercise 4.5.1 for QuantEcon\n",
    "\n",
    "def factorial(n):\n",
    "    product = 1\n",
    "    while n > 0:\n",
    "        product *= n\n",
    "        n-=1\n",
    "    return product\n",
    "\n",
    "\n",
    "print(factorial(5))\n",
    "\n"
   ]
  },
  {
   "cell_type": "code",
   "execution_count": 42,
   "metadata": {},
   "outputs": [
    {
     "name": "stdout",
     "output_type": "stream",
     "text": [
      "3\n"
     ]
    }
   ],
   "source": [
    "#Exercise 4.5.2 for QuantEcon\n",
    "#Binomial Random Variable:\n",
    "'''\n",
    "Conditions that must be met: \n",
    "\n",
    "1) There are a fixed number of trials (a fixed sample size).\n",
    "2) On each trial, the event of interest either occurs or does not.\n",
    "3) The probability of occurrence (or not) is the same on each trial.\n",
    "4) Trials are independent of one another.\n",
    "'''\n",
    "\n",
    "\n",
    "from numpy.random import uniform\n",
    "def binomialRandomVar(n,p):\n",
    "    num = 0\n",
    "    for x in range(n):\n",
    "        if p > uniform():\n",
    "            num+=1\n",
    "    return num\n",
    "\n",
    "print(binomialRandomVar(10,0.5))"
   ]
  },
  {
   "cell_type": "code",
   "execution_count": 145,
   "metadata": {},
   "outputs": [
    {
     "name": "stdout",
     "output_type": "stream",
     "text": [
      "1\n",
      "0\n",
      "1\n",
      "2\n",
      "0\n",
      "1\n",
      "2\n",
      "3\n",
      "0\n",
      "0\n"
     ]
    },
    {
     "data": {
      "text/plain": [
       "3"
      ]
     },
     "execution_count": 145,
     "metadata": {},
     "output_type": "execute_result"
    }
   ],
   "source": [
    "#consecutive heads, 'k' times\n",
    "from numpy.random import random\n",
    "\n",
    "def HeadsOrTails(k):\n",
    "    count = 0\n",
    "    money = 0\n",
    "    for x in range(10):\n",
    "        if random() < 0.5:\n",
    "            count+=1\n",
    "            if count == k:\n",
    "                 money+=1\n",
    "        else:\n",
    "            count = 0\n",
    "        print(count)\n",
    "    return money\n",
    "\n",
    "HeadsOrTails(1)"
   ]
  }
 ],
 "metadata": {
  "interpreter": {
   "hash": "aee8b7b246df8f9039afb4144a1f6fd8d2ca17a180786b69acc140d282b71a49"
  },
  "kernelspec": {
   "display_name": "Python 3.10.0 64-bit",
   "language": "python",
   "name": "python3"
  },
  "language_info": {
   "codemirror_mode": {
    "name": "ipython",
    "version": 3
   },
   "file_extension": ".py",
   "mimetype": "text/x-python",
   "name": "python",
   "nbconvert_exporter": "python",
   "pygments_lexer": "ipython3",
   "version": "3.9.7"
  },
  "orig_nbformat": 4
 },
 "nbformat": 4,
 "nbformat_minor": 2
}
