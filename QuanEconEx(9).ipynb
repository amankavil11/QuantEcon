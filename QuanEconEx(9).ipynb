{
 "cells": [
  {
   "cell_type": "code",
   "execution_count": 47,
   "metadata": {},
   "outputs": [
    {
     "name": "stdout",
     "output_type": "stream",
     "text": [
      "-0.6493173068766384\n",
      "0.06393876566758083\n",
      "0.019888764015757676\n"
     ]
    }
   ],
   "source": [
    "import numpy as np\n",
    "z = np.linspace(0, 10, 5)\n",
    "z[z>3]\n",
    "#all numbers possible but concentrated between [-1,1] 68th-percentile\n",
    "print(np.random.randn())\n",
    "#equal chance of numbers between 0 and 1\n",
    "print(np.random.uniform())\n",
    "#given by the world clock at that current moment\n",
    "print(np.random.random())"
   ]
  },
  {
   "cell_type": "code",
   "execution_count": 41,
   "metadata": {},
   "outputs": [
    {
     "name": "stdout",
     "output_type": "stream",
     "text": [
      "142\n"
     ]
    }
   ],
   "source": [
    "#Exercise 9.5.1 for QuantEcon\n",
    "\n",
    "def p(x, coeff):\n",
    "    new_coeff = np.array(coeff)\n",
    "    X = np.ones_like(coeff)\n",
    "    X[1:] = x\n",
    "    y = X.cumprod()\n",
    "    return y.dot(coeff)\n",
    "\n",
    "print(p(3,[1,2,3,4]))\n"
   ]
  },
  {
   "cell_type": "code",
   "execution_count": 46,
   "metadata": {},
   "outputs": [
    {
     "data": {
      "text/plain": [
       "array([0.87631087])"
      ]
     },
     "execution_count": 46,
     "metadata": {},
     "output_type": "execute_result"
    }
   ],
   "source": [
    "#Exercise 9.5.2 for QuantEcon\n",
    "\n",
    "class DiscreteRV:\n",
    "    \"\"\"\n",
    "Generates an array of draws from a discrete random variable with vector of\n",
    "probabilities given by q.\n",
    "\"\"\"\n",
    "    def __init__(self, q):\n",
    "        \"\"\"\n",
    "        The argument q is a NumPy array, or array like, nonnegative and sums\n",
    "        to 1\n",
    "        \"\"\"\n",
    "        self.q = q\n",
    "        self.Q = cumsum(q)\n",
    "\n",
    "\n",
    "    \n",
    "    def draw(self, k=1):\n",
    "        \"\"\"\n",
    "        Returns k draws from q. For each such draw, the value i is returned\n",
    "        with probability q[i].\n",
    "        \"\"\"\n",
    "        return self.Q.searchsorted(np.random.uniform(0, 1, size=k))\n",
    "\n",
    "\n",
    "    \n",
    "np.random.uniform(0, 1, size=1)\n",
    "    \n",
    "        \n"
   ]
  },
  {
   "cell_type": "code",
   "execution_count": 105,
   "metadata": {},
   "outputs": [
    {
     "data": {
      "image/png": "[encoded data removed]",
      "text/plain": [
       "<Figure size 432x288 with 1 Axes>"
      ]
     },
     "metadata": {
      "needs_background": "light"
     },
     "output_type": "display_data"
    }
   ],
   "source": [
    "#Exercise 9.5.3 for QuantEcon\n",
    "import matplotlib.pyplot as plt\n",
    "\n",
    "\n",
    "\n",
    "class ECDF:\n",
    "    def __init__(self, observations):\n",
    "        self.observations = np.asarray(observations)\n",
    "    \n",
    "    def __call__(self, x):\n",
    "       return np.mean((self.observations <= x))\n",
    "    def plot(self, interval):\n",
    "        x = np.linspace(interval[0],interval[1],num=100)\n",
    "        f = np.vectorize(self.__call__)\n",
    "        plt.plot(x,f(x))\n",
    "\n",
    "\n",
    "thing1 = ECDF([np.random.randn() for i in range(100000)])\n",
    "\n",
    "#thing1(0.5)\n",
    "thing1.plot((-5,4))"
   ]
  }
 ],
 "metadata": {
  "interpreter": {
   "hash": "aee8b7b246df8f9039afb4144a1f6fd8d2ca17a180786b69acc140d282b71a49"
  },
  "kernelspec": {
   "display_name": "Python 3.10.0 64-bit",
   "language": "python",
   "name": "python3"
  },
  "language_info": {
   "codemirror_mode": {
    "name": "ipython",
    "version": 3
   },
   "file_extension": ".py",
   "mimetype": "text/x-python",
   "name": "python",
   "nbconvert_exporter": "python",
   "pygments_lexer": "ipython3",
   "version": "3.9.7"
  },
  "orig_nbformat": 4
 },
 "nbformat": 4,
 "nbformat_minor": 2
}
