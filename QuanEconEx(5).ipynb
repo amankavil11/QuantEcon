{
 "cells": [
  {
   "cell_type": "code",
   "execution_count": 3,
   "metadata": {},
   "outputs": [
    {
     "name": "stdout",
     "output_type": "stream",
     "text": [
      "50\n"
     ]
    },
    {
     "data": {
      "text/plain": [
       "2"
      ]
     },
     "execution_count": 3,
     "metadata": {},
     "output_type": "execute_result"
    }
   ],
   "source": [
    "#Exercise 5.8.1 for QuantEcon\n",
    "%pwd #Print Working Directory\n",
    "\n",
    "#part 1\n",
    "x_vals = (1,2,3)\n",
    "y_vals = (3,2,1)\n",
    "z = [x * y for x,y in zip(x_vals, y_vals)]\n",
    "sum(z)\n",
    "\n",
    "#part 2\n",
    "print(len([num for num in range(100) if num%2 ==0]))\n",
    "#sum([x % 2 == 0 for x in range(100)])\n",
    "\n",
    "#part 3\n",
    "pairs = ((2, 5), (4, 2), (9, 8), (12, 10))\n",
    "\n",
    "#tuple unpacking\n",
    "sum([x % 2 == 0 and y % 2 == 0 for x, y in pairs])\n",
    "\n"
   ]
  },
  {
   "cell_type": "code",
   "execution_count": 2,
   "metadata": {},
   "outputs": [
    {
     "name": "stdout",
     "output_type": "stream",
     "text": [
      "586\n"
     ]
    },
    {
     "data": {
      "text/plain": [
       "'vuubik'"
      ]
     },
     "execution_count": 2,
     "metadata": {},
     "output_type": "execute_result"
    }
   ],
   "source": [
    "#Exercise 5.8.2 for QuantEcon\n",
    "\n",
    "def p(x,coeff):\n",
    "    return sum([co * (x**n) for n,co in enumerate(coeff)])\n",
    "\n",
    "print(p(5, [1,2,3,4]))\n"
   ]
  },
  {
   "cell_type": "code",
   "execution_count": 37,
   "metadata": {},
   "outputs": [
    {
     "data": {
      "text/plain": [
       "3"
      ]
     },
     "execution_count": 37,
     "metadata": {},
     "output_type": "execute_result"
    }
   ],
   "source": [
    "#Exercise 5.8.3 for QuantEcon\n",
    "\n",
    "def howManyCaps(s):\n",
    "    counter = 0\n",
    "    for i,letter in enumerate(s):\n",
    "        if(letter == s.upper()[i] and letter.isalpha()):\n",
    "            counter+=1\n",
    "    return counter\n",
    "\n",
    "howManyCaps(\"ExxOn Mobile\")\n",
    "\n"
   ]
  },
  {
   "cell_type": "code",
   "execution_count": 6,
   "metadata": {},
   "outputs": [
    {
     "data": {
      "text/plain": [
       "True"
      ]
     },
     "execution_count": 6,
     "metadata": {},
     "output_type": "execute_result"
    }
   ],
   "source": [
    "#Exercise 5.8.4 for QuantEcon\n",
    "seq_a = 1,2,3\n",
    "seq_b = 1,2,3\n",
    "def same(x,y):\n",
    "    check = True\n",
    "    for a,b in zip(seq_a,seq_b):\n",
    "        if(a != b):\n",
    "            check = False\n",
    "    return check\n",
    "\n",
    "same(seq_a,seq_b)\n",
    "\n"
   ]
  },
  {
   "cell_type": "code",
   "execution_count": 17,
   "metadata": {},
   "outputs": [
    {
     "name": "stdout",
     "output_type": "stream",
     "text": [
      "20.5\n",
      "20.25000025050075\n"
     ]
    }
   ],
   "source": [
    "#Exercise 5.8.5 for QuantEcon\n",
    "f = lambda x: x**2\n",
    "\n",
    "def linapprox(f,interval,x):\n",
    "    a,b = interval\n",
    "    return f(a) + ((x-a)*((f(b)-f(a))/(b-a)))\n",
    "\n",
    "#More accurate especially when 'n' is large; basically the taking the limit\n",
    "def linapprox2(f, a, b, n, x):\n",
    "    length_of_interval = b - a\n",
    "    num_subintervals = n - 1\n",
    "    step = length_of_interval / num_subintervals\n",
    "\n",
    "    # === find first grid point larger than x === #\n",
    "    point = a\n",
    "    while point <= x:\n",
    "        point += step\n",
    "\n",
    "    # === x must lie between the gridpoints (point - step) and point === #\n",
    "    u, v = point - step, point\n",
    "\n",
    "    return f(u) + (x - u) * (f(v) - f(u)) / (v - u)\n",
    "\n",
    "\n",
    "print(linapprox(f,(4,5),4.5))\n",
    "print(linapprox2(f,4,5,1000,4.5))\n",
    "\n",
    "\n",
    "\n",
    "\n"
   ]
  },
  {
   "cell_type": "code",
   "execution_count": null,
   "metadata": {},
   "outputs": [],
   "source": [
    "#Exercise 5.8.6 for QuantEcon\n",
    "\n",
    "n = 100\n",
    "ϵ_values = [np.random.randn() for i in range(n)]\n",
    "ϵ_values\n",
    "\n"
   ]
  }
 ],
 "metadata": {
  "interpreter": {
   "hash": "aee8b7b246df8f9039afb4144a1f6fd8d2ca17a180786b69acc140d282b71a49"
  },
  "kernelspec": {
   "display_name": "Python 3.10.0 64-bit",
   "language": "python",
   "name": "python3"
  },
  "language_info": {
   "codemirror_mode": {
    "name": "ipython",
    "version": 3
   },
   "file_extension": ".py",
   "mimetype": "text/x-python",
   "name": "python",
   "nbconvert_exporter": "python",
   "pygments_lexer": "ipython3",
   "version": "3.9.7"
  },
  "orig_nbformat": 4
 },
 "nbformat": 4,
 "nbformat_minor": 2
}
