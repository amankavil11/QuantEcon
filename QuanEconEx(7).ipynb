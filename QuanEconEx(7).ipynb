{
 "cells": [
  {
   "cell_type": "code",
   "execution_count": 21,
   "metadata": {},
   "outputs": [
    {
     "data": {
      "text/plain": [
       "0.7000000000000001"
      ]
     },
     "execution_count": 21,
     "metadata": {},
     "output_type": "execute_result"
    }
   ],
   "source": [
    "#Exercise 7.5.1 for QuantEcon\n",
    "from random import uniform\n",
    "\n",
    "class ECDF:\n",
    "    def __init__(self, observations):\n",
    "        self.observations = observations\n",
    "    \n",
    "    def __call__(self, x):\n",
    "       return sum([1 for n in self.observations if n <= x]) * (1/len(self.observations))\n",
    "\n",
    "thing1 = ECDF([uniform(0, 1) for i in range(10)])\n",
    "\n",
    "thing1(0.5)\n",
    "            \n",
    "\n",
    "\n"
   ]
  },
  {
   "cell_type": "code",
   "execution_count": 24,
   "metadata": {},
   "outputs": [
    {
     "name": "stdout",
     "output_type": "stream",
     "text": [
      "CPU times: user 27 µs, sys: 14 µs, total: 41 µs\n",
      "Wall time: 42.9 µs\n"
     ]
    }
   ],
   "source": [
    "%%time\n",
    "#Exercise 7.5.2 for QuantEcon\n",
    "class Polynomial: \n",
    "\n",
    "    def __init__(self, coeff):\n",
    "        self.coeff = coeff\n",
    "    \n",
    "    def __call__(self,x):\n",
    "        y=0\n",
    "        for n,a in enumerate(self.coeff):\n",
    "            y+=a*(x**n)\n",
    "        return y\n",
    "    \n",
    "    def diff(self):\n",
    "        newCoeff = []\n",
    "        for n,a in enumerate(self.coeff):\n",
    "            newCoeff[n] = n*a\n",
    "        del newCoeff[0]\n",
    "        return newCoeff\n",
    "\n"
   ]
  }
 ],
 "metadata": {
  "interpreter": {
   "hash": "aee8b7b246df8f9039afb4144a1f6fd8d2ca17a180786b69acc140d282b71a49"
  },
  "kernelspec": {
   "display_name": "Python 3.10.0 64-bit",
   "language": "python",
   "name": "python3"
  },
  "language_info": {
   "codemirror_mode": {
    "name": "ipython",
    "version": 3
   },
   "file_extension": ".py",
   "mimetype": "text/x-python",
   "name": "python",
   "nbconvert_exporter": "python",
   "pygments_lexer": "ipython3",
   "version": "3.9.7"
  },
  "orig_nbformat": 4
 },
 "nbformat": 4,
 "nbformat_minor": 2
}
